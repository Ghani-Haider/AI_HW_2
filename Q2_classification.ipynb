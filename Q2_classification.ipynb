{
 "cells": [
  {
   "cell_type": "code",
   "execution_count": 16,
   "source": [
    "import csv\r\n",
    "import pandas as pd\r\n",
    "import sklearn\r\n",
    "from sklearn.linear_model import LogisticRegression\r\n",
    "from sklearn.tree import DecisionTreeClassifier\r\n",
    "from sklearn.neighbors import KNeighborsClassifier\r\n",
    "from sklearn import datasets, svm, metrics"
   ],
   "outputs": [],
   "metadata": {}
  },
  {
   "cell_type": "code",
   "execution_count": 2,
   "source": [
    "def load_file(fileName):\r\n",
    "    dataset = pd.read_table(fileName, header=0, sep=\",\", encoding=\"unicode_escape\")\r\n",
    "    return dataset"
   ],
   "outputs": [],
   "metadata": {}
  },
  {
   "cell_type": "code",
   "execution_count": 5,
   "source": [
    "# splitting the training and test dataset\r\n",
    "print(\"Loading data.....\")\r\n",
    "dataset_train = load_file(\"fashion-mnist_train.csv\")\r\n",
    "dataset_test = load_file(\"fashion-mnist_test.csv\")\r\n",
    "\r\n",
    "# splitting training data\r\n",
    "trainingY = dataset_train['label']\r\n",
    "trainingX = dataset_train.drop(columns='label')\r\n",
    "\r\n",
    "# splitting training data \r\n",
    "testY = dataset_test['label']\r\n",
    "testX = dataset_test.drop(columns='label')\r\n",
    "\r\n",
    "# normaling the input values\r\n",
    "trainingX = trainingX/255\r\n",
    "testX = testX/255"
   ],
   "outputs": [
    {
     "output_type": "stream",
     "name": "stdout",
     "text": [
      "Loading data.....\n"
     ]
    }
   ],
   "metadata": {}
  },
  {
   "cell_type": "code",
   "execution_count": 7,
   "source": [
    "### Support Vector Classifier ###\r\n",
    "clf = svm.SVC(gamma=0.001)\r\n",
    "# learning the model\r\n",
    "clf.fit(trainingX, trainingY)\r\n",
    "# calssifying the test dataset\r\n",
    "predicted = clf.predict(testX)\r\n",
    "# evaluating the predicted result\r\n",
    "print(\"Metrics for Support Vector Classifier\")\r\n",
    "print('Accuracy:', metrics.accuracy_score(predicted, testY))\r\n",
    "print('Precision:', metrics.precision_score(predicted, testY, average=None))\r\n",
    "print('Recall:', metrics.recall_score(predicted, testY, average=None))\r\n",
    "print('F_measure:', metrics.f1_score(predicted, testY, average=None))\r\n",
    "print('Confusion Matrix:', metrics.confusion_matrix(predicted, testY))"
   ],
   "outputs": [
    {
     "output_type": "stream",
     "name": "stdout",
     "text": [
      "Metrics for Support Vector Classifier\n",
      "Accuracy: 0.856\n",
      "Precision: [0.848 0.959 0.762 0.908 0.836 0.914 0.553 0.887 0.96  0.933]\n",
      "Recall: [0.76190476 0.98358974 0.78963731 0.85098407 0.78130841 0.92697769\n",
      " 0.69647355 0.89056225 0.9495549  0.91202346]\n",
      "F_measure: [0.80265026 0.97113924 0.77557252 0.87856797 0.80772947 0.9204431\n",
      " 0.61649944 0.88877756 0.95474888 0.92239249]\n",
      "Confusion Matrix: [[848   5  14  28   1   1 213   0   3   0]\n",
      " [  2 959   1  10   0   0   3   0   0   0]\n",
      " [ 12   9 762  17  59   0  98   0   8   0]\n",
      " [ 55  23  11 908  31   1  34   0   4   0]\n",
      " [  0   0 135  17 836   0  81   0   1   0]\n",
      " [  3   1   1   0   0 914   0  42   5  20]\n",
      " [ 68   3  67  17  71   1 553   0  14   0]\n",
      " [  0   0   0   0   0  60   0 887   2  47]\n",
      " [ 12   0   9   3   2   6  18   1 960   0]\n",
      " [  0   0   0   0   0  17   0  70   3 933]]\n"
     ]
    }
   ],
   "metadata": {}
  },
  {
   "cell_type": "code",
   "execution_count": 17,
   "source": [
    "### Decision Tree Classifier ###\r\n",
    "classifier = DecisionTreeClassifier()\r\n",
    "# learning the model\r\n",
    "classifier.fit(trainingX,trainingY)\r\n",
    "# calssifying the test dataset\r\n",
    "predicted2=classifier.predict(testX)\r\n",
    "# evaluating the predicted result\r\n",
    "print(\"Metrics for Decision Tree Classifier\")\r\n",
    "print('Accuracy:', metrics.accuracy_score(predicted2, testY))\r\n",
    "print('Precision:', metrics.precision_score(predicted2, testY, average=None))\r\n",
    "print('Recall:', metrics.recall_score(predicted2, testY, average=None))\r\n",
    "print('F_measure:', metrics.f1_score(predicted2, testY, average=None))\r\n",
    "print('Confusion Matrix:', metrics.confusion_matrix(predicted2, testY))"
   ],
   "outputs": [
    {
     "output_type": "stream",
     "name": "stdout",
     "text": [
      "Metrics for Decision Tree Classifier\n",
      "Accuracy: 0.7951\n",
      "Precision: [0.729 0.963 0.68  0.814 0.683 0.878 0.543 0.86  0.903 0.898]\n",
      "Recall: [0.72106825 0.9459725  0.69175992 0.82222222 0.67892644 0.89318413\n",
      " 0.53869048 0.85657371 0.9158215  0.88822948]\n",
      "F_measure: [0.72501243 0.95441031 0.68582955 0.81809045 0.68095713 0.88552698\n",
      " 0.54083665 0.85828343 0.90936556 0.89308802]\n",
      "Confusion Matrix: [[729   5  20  45  17   2 175   1  16   1]\n",
      " [  5 963   5  30   2   2  11   0   0   0]\n",
      " [ 17   6 680  16 142   1  99   1  20   1]\n",
      " [ 45  18  18 814  49   0  38   0   7   1]\n",
      " [ 11   2 135  50 683   1 111   0  12   1]\n",
      " [  3   1   4   1   1 878   1  57  14  23]\n",
      " [174   4 126  37 103   3 543   0  16   2]\n",
      " [  1   0   0   0   0  65   0 860   9  69]\n",
      " [ 14   1  10   7   3  18  20   6 903   4]\n",
      " [  1   0   2   0   0  30   2  75   3 898]]\n"
     ]
    }
   ],
   "metadata": {}
  },
  {
   "cell_type": "code",
   "execution_count": 13,
   "source": [
    "### SGD Classifier ###\r\n",
    "classifier = sklearn.linear_model.SGDClassifier()\r\n",
    "# learning the model\r\n",
    "classifier.fit(trainingX,trainingY)\r\n",
    "# calssifying the test dataset\r\n",
    "predicted3=classifier.predict(testX)\r\n",
    "# evaluating the predicted result\r\n",
    "print(\"Metrics for SGD Classifier\")\r\n",
    "print('Accuracy:', metrics.accuracy_score(predicted3, testY))\r\n",
    "print('Precision:', metrics.precision_score(predicted3, testY, average=None))\r\n",
    "print('Recall:', metrics.recall_score(predicted3, testY, average=None))\r\n",
    "print('F_measure:', metrics.f1_score(predicted3, testY, average=None))\r\n",
    "print('Confusion Matrix:', metrics.confusion_matrix(predicted3, testY))"
   ],
   "outputs": [
    {
     "output_type": "stream",
     "name": "stdout",
     "text": [
      "Metrics for SGD Classifier\n",
      "Accuracy: 0.8375\n",
      "Precision: [0.714 0.976 0.824 0.932 0.767 0.916 0.515 0.898 0.902 0.931]\n",
      "Recall: [0.85       0.94665373 0.70729614 0.70286576 0.78747433 0.9123506\n",
      " 0.71230982 0.90707071 0.95957447 0.9245283 ]\n",
      "F_measure: [0.77608696 0.9611029  0.76120092 0.80137575 0.77710233 0.91417166\n",
      " 0.59779454 0.90251256 0.92989691 0.92775286]\n",
      "Confusion Matrix: [[714   0   7  10   0   1 104   0   4   0]\n",
      " [  7 976   4  21   5   4  12   0   2   0]\n",
      " [ 34   0 824  13 119   2 154   0  18   1]\n",
      " [136  18  26 932  64   2 112   0  36   0]\n",
      " [  1   0  94  13 767   0  92   0   6   1]\n",
      " [  3   2   0   0   1 916   0  48   9  25]\n",
      " [ 90   4  41  10  43   2 515   0  17   1]\n",
      " [  0   0   0   0   0  49   0 898   3  40]\n",
      " [ 15   0   4   1   1   5  11   0 902   1]\n",
      " [  0   0   0   0   0  19   0  54   3 931]]\n"
     ]
    }
   ],
   "metadata": {}
  },
  {
   "cell_type": "code",
   "execution_count": 14,
   "source": [
    "### Logistic Regression Classifier ###\r\n",
    "classifier = LogisticRegression()\r\n",
    "# learning the model\r\n",
    "classifier.fit(trainingX,trainingY)\r\n",
    "# calssifying the test dataset\r\n",
    "predicted4 = classifier.predict(testX)\r\n",
    "# evaluating the predicted result\r\n",
    "print(\"Metrics for Logistic Regression\")\r\n",
    "print('Accuracy:', metrics.accuracy_score(predicted4, testY))\r\n",
    "print('Precision:', metrics.precision_score(predicted4, testY, average=None))\r\n",
    "print('Recall:', metrics.recall_score(predicted4, testY, average=None))\r\n",
    "print('F_measure:', metrics.f1_score(predicted4, testY, average=None))\r\n",
    "print('Confusion Matrix:', metrics.confusion_matrix(predicted4, testY))"
   ],
   "outputs": [
    {
     "output_type": "stream",
     "name": "stdout",
     "text": [
      "Metrics for Logistic Regression\n",
      "Accuracy: 0.8565\n",
      "Precision: [0.813 0.971 0.759 0.887 0.809 0.922 0.6   0.911 0.951 0.942]\n",
      "Recall: [0.8049505  0.971      0.76512097 0.85866409 0.77639155 0.92663317\n",
      " 0.66006601 0.91191191 0.93786982 0.93638171]\n",
      "F_measure: [0.80895522 0.971      0.76204819 0.87260207 0.79236043 0.92431078\n",
      " 0.62860136 0.91145573 0.94438928 0.93918245]\n",
      "Confusion Matrix: [[813   0  16  27   1   2 146   0   5   0]\n",
      " [  4 971   2  19   0   1   3   0   0   0]\n",
      " [ 16   3 759  18  84   0 105   0   7   0]\n",
      " [ 46  17  12 887  29   1  34   0   7   0]\n",
      " [  0   1 111  22 809   0  95   0   4   0]\n",
      " [  2   2   0   0   0 922   1  44   6  18]\n",
      " [ 98   6  90  26  74   1 600   0  14   0]\n",
      " [  0   0   0   0   0  46   0 911   4  38]\n",
      " [ 20   0  10   1   3  10  16   1 951   2]\n",
      " [  1   0   0   0   0  17   0  44   2 942]]\n"
     ]
    },
    {
     "output_type": "stream",
     "name": "stderr",
     "text": [
      "C:\\Users\\ghani haider\\AppData\\Roaming\\Python\\Python38\\site-packages\\sklearn\\linear_model\\_logistic.py:814: ConvergenceWarning: lbfgs failed to converge (status=1):\n",
      "STOP: TOTAL NO. of ITERATIONS REACHED LIMIT.\n",
      "\n",
      "Increase the number of iterations (max_iter) or scale the data as shown in:\n",
      "    https://scikit-learn.org/stable/modules/preprocessing.html\n",
      "Please also refer to the documentation for alternative solver options:\n",
      "    https://scikit-learn.org/stable/modules/linear_model.html#logistic-regression\n",
      "  n_iter_i = _check_optimize_result(\n"
     ]
    }
   ],
   "metadata": {}
  },
  {
   "cell_type": "code",
   "execution_count": 15,
   "source": [
    "### K-Neighbors Classifier ###\r\n",
    "classifier = KNeighborsClassifier()\r\n",
    "# learning the model\r\n",
    "classifier.fit(trainingX,trainingY)\r\n",
    "# calssifying the test dataset\r\n",
    "predicted5=classifier.predict(testX)\r\n",
    "# evaluating the predicted result\r\n",
    "print(\"Metrics for KNeighborsClassifier\")\r\n",
    "print('Accuracy:', metrics.accuracy_score(predicted5, testY))\r\n",
    "print('Precision:', metrics.precision_score(predicted5, testY, average=None))\r\n",
    "print('Recall:', metrics.recall_score(predicted5, testY, average=None))\r\n",
    "print('F_measure:', metrics.f1_score(predicted5, testY, average=None))\r\n",
    "print('Confusion Matrix:', metrics.confusion_matrix(predicted5, testY))"
   ],
   "outputs": [
    {
     "output_type": "stream",
     "name": "stderr",
     "text": [
      "C:\\Users\\ghani haider\\AppData\\Roaming\\Python\\Python38\\site-packages\\sklearn\\base.py:441: UserWarning: X does not have valid feature names, but KNeighborsClassifier was fitted with feature names\n",
      "  warnings.warn(\n"
     ]
    },
    {
     "output_type": "stream",
     "name": "stdout",
     "text": [
      "Metrics for KNeighborsClassifier\n",
      "Accuracy: 0.8589\n",
      "Precision: [0.874 0.965 0.808 0.882 0.799 0.816 0.583 0.945 0.953 0.964]\n",
      "Recall: [0.76599474 0.98569969 0.75302889 0.91304348 0.78719212 0.99512195\n",
      " 0.68187135 0.87177122 0.9774359  0.88278388]\n",
      "F_measure: [0.81644092 0.97524002 0.77954655 0.89725331 0.79305211 0.8967033\n",
      " 0.62857143 0.90690979 0.96506329 0.92160612]\n",
      "Confusion Matrix: [[874   4  18  36   4   1 202   0   2   0]\n",
      " [  1 965   0  11   0   0   1   0   1   0]\n",
      " [ 16   7 808  14  99   1 114   0  14   0]\n",
      " [ 11  14  14 882  26   1  16   0   2   0]\n",
      " [  5   1  98  32 799   0  74   0   6   0]\n",
      " [  0   0   0   0   0 816   0   1   1   2]\n",
      " [ 86   9  61  25  70   8 583   0  13   0]\n",
      " [  2   0   0   0   0  98   0 945   5  34]\n",
      " [  5   0   1   0   2   4  10   0 953   0]\n",
      " [  0   0   0   0   0  71   0  54   3 964]]\n"
     ]
    }
   ],
   "metadata": {}
  }
 ],
 "metadata": {
  "interpreter": {
   "hash": "2db524e06e9f5f4ffedc911c917cb75e12dbc923643829bf417064a77eb14d37"
  },
  "kernelspec": {
   "name": "python3",
   "display_name": "Python 3.8.5 64-bit"
  },
  "language_info": {
   "codemirror_mode": {
    "name": "ipython",
    "version": 3
   },
   "file_extension": ".py",
   "mimetype": "text/x-python",
   "name": "python",
   "nbconvert_exporter": "python",
   "pygments_lexer": "ipython3",
   "version": "3.8.5"
  }
 },
 "nbformat": 4,
 "nbformat_minor": 2
}