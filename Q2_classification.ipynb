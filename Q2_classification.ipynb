{
 "cells": [
  {
   "cell_type": "code",
   "execution_count": 1,
   "source": [
    "import csv\r\n",
    "import pandas as pd\r\n",
    "from sklearn.feature_extraction.text import CountVectorizer\r\n",
    "from sklearn.feature_extraction.text import TfidfTransformer\r\n",
    "from sklearn.model_selection import train_test_split\r\n"
   ],
   "outputs": [],
   "metadata": {}
  },
  {
   "cell_type": "code",
   "execution_count": 3,
   "source": [
    "def load_file(fileName):\r\n",
    "    dataset = pd.read_table(fileName, header=0, sep=\",\", encoding=\"unicode_escape\")\r\n",
    "    \r\n",
    "    return dataset"
   ],
   "outputs": [],
   "metadata": {}
  },
  {
   "cell_type": "code",
   "execution_count": 7,
   "source": [
    "# preprocess creates the term frequency matrix for the review data set\r\n",
    "def preprocess(data):\r\n",
    "    count_vectorizer = CountVectorizer()\r\n",
    "    data = count_vectorizer.fit_transform(data)\r\n",
    "    #tfidf_data = TfidfTransformer(use_idf=False).fit_transform(data)\r\n",
    "\r\n",
    "    return data"
   ],
   "outputs": [],
   "metadata": {}
  },
  {
   "cell_type": "code",
   "execution_count": 8,
   "source": [
    "def learn_model(data,target):\r\n",
    "  \r\n",
    "    classifier = None\r\n",
    "    #Your custom implementation of NaiveBayes classifier will go here.\r\n",
    "    \r\n",
    "    \r\n",
    "    return classifier"
   ],
   "outputs": [],
   "metadata": {}
  },
  {
   "cell_type": "code",
   "execution_count": 9,
   "source": [
    "def classify(classifier, testdata):\r\n",
    "    \r\n",
    "    predicted_val=[]\r\n",
    "    #Your code to classify test data using the learned model will go here\r\n",
    "    \r\n",
    "    \r\n",
    "    return predicted_val"
   ],
   "outputs": [],
   "metadata": {}
  },
  {
   "cell_type": "code",
   "execution_count": 10,
   "source": [
    "def evaluate(actual_class, predicted_class):\r\n",
    "        \r\n",
    "    accuracy = -1    \r\n",
    "    #Your code to evaluate the model will go here. The code will print overall model's accuracy and precision \r\n",
    "    #and recall for each class label.\r\n",
    "    \r\n",
    "    \r\n",
    "    print(\"The accuracy score is :\",accuracy)"
   ],
   "outputs": [],
   "metadata": {}
  },
  {
   "cell_type": "code",
   "execution_count": 13,
   "source": [
    "# splitting data\r\n",
    "print(\"Loading data.....\")\r\n",
    "dataset_train = load_file(\"fashion-mnist_train.csv\")\r\n",
    "dataset_test = load_file(\"fashion-mnist_test.csv\")\r\n",
    "\r\n",
    "# splitting training data\r\n",
    "trainingY = dataset_train['label']\r\n",
    "trainingX = dataset_train.drop(columns='label')\r\n",
    "\r\n",
    "# splitting training data \r\n",
    "testY = dataset_test['label']\r\n",
    "testX = dataset_test.drop(columns='label')"
   ],
   "outputs": [
    {
     "output_type": "stream",
     "name": "stdout",
     "text": [
      "Loading data.....\n",
      "10000\n"
     ]
    }
   ],
   "metadata": {}
  },
  {
   "cell_type": "code",
   "execution_count": null,
   "source": [],
   "outputs": [],
   "metadata": {}
  }
 ],
 "metadata": {
  "kernelspec": {
   "name": "python3",
   "display_name": "Python 3.8.5 64-bit"
  },
  "language_info": {
   "codemirror_mode": {
    "name": "ipython",
    "version": 3
   },
   "file_extension": ".py",
   "mimetype": "text/x-python",
   "name": "python",
   "nbconvert_exporter": "python",
   "pygments_lexer": "ipython3",
   "version": "3.8.5"
  },
  "interpreter": {
   "hash": "2db524e06e9f5f4ffedc911c917cb75e12dbc923643829bf417064a77eb14d37"
  }
 },
 "nbformat": 4,
 "nbformat_minor": 2
}