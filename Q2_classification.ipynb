{
 "cells": [
  {
   "cell_type": "code",
   "execution_count": 15,
   "metadata": {},
   "outputs": [],
   "source": [
    "import csv\n",
    "import pandas as pd\n",
    "from sklearn.feature_extraction.text import CountVectorizer\n",
    "from sklearn.feature_extraction.text import TfidfTransformer\n",
    "from sklearn.model_selection import train_test_split\n",
    "import sklearn\n",
    "from sklearn import datasets,svm,tree, metrics\n"
   ]
  },
  {
   "cell_type": "code",
   "execution_count": 3,
   "metadata": {},
   "outputs": [],
   "source": [
    "def load_file(fileName):\n",
    "    dataset = pd.read_table(fileName, header=0, sep=\",\", encoding=\"unicode_escape\")\n",
    "    \n",
    "    return dataset"
   ]
  },
  {
   "cell_type": "code",
   "execution_count": 4,
   "metadata": {},
   "outputs": [],
   "source": [
    "# preprocess creates the term frequency matrix for the review data set\n",
    "def preprocess(data):\n",
    "    count_vectorizer = CountVectorizer()\n",
    "    data = count_vectorizer.fit_transform(data)\n",
    "    #tfidf_data = TfidfTransformer(use_idf=False).fit_transform(data)\n",
    "\n",
    "    return data"
   ]
  },
  {
   "cell_type": "code",
   "execution_count": 5,
   "metadata": {},
   "outputs": [],
   "source": [
    "def learn_model(data,target):\n",
    "  \n",
    "    classifier = None\n",
    "    #Your custom implementation of NaiveBayes classifier will go here.\n",
    "    \n",
    "    \n",
    "    return classifier"
   ]
  },
  {
   "cell_type": "code",
   "execution_count": 6,
   "metadata": {},
   "outputs": [],
   "source": [
    "def classify(classifier, testdata):\n",
    "    \n",
    "    predicted_val=[]\n",
    "    #Your code to classify test data using the learned model will go here\n",
    "    \n",
    "    \n",
    "    return predicted_val"
   ]
  },
  {
   "cell_type": "code",
   "execution_count": 7,
   "metadata": {},
   "outputs": [],
   "source": [
    "def evaluate(actual_class, predicted_class):\n",
    "        \n",
    "    accuracy = -1    \n",
    "    #Your code to evaluate the model will go here. The code will print overall model's accuracy and precision \n",
    "    #and recall for each class label.\n",
    "    \n",
    "    \n",
    "    print(\"The accuracy score is :\",accuracy)"
   ]
  },
  {
   "cell_type": "code",
   "execution_count": 17,
   "metadata": {},
   "outputs": [
    {
     "name": "stdout",
     "output_type": "stream",
     "text": [
      "Loading data.....\n"
     ]
    },
    {
     "name": "stderr",
     "output_type": "stream",
     "text": [
      "C:\\Anaconda3\\lib\\site-packages\\ipykernel_launcher.py:2: FutureWarning: read_table is deprecated, use read_csv instead.\n",
      "  \n"
     ]
    },
    {
     "data": {
      "text/html": [
       "<div>\n",
       "<style scoped>\n",
       "    .dataframe tbody tr th:only-of-type {\n",
       "        vertical-align: middle;\n",
       "    }\n",
       "\n",
       "    .dataframe tbody tr th {\n",
       "        vertical-align: top;\n",
       "    }\n",
       "\n",
       "    .dataframe thead th {\n",
       "        text-align: right;\n",
       "    }\n",
       "</style>\n",
       "<table border=\"1\" class=\"dataframe\">\n",
       "  <thead>\n",
       "    <tr style=\"text-align: right;\">\n",
       "      <th></th>\n",
       "      <th>pixel1</th>\n",
       "      <th>pixel2</th>\n",
       "      <th>pixel3</th>\n",
       "      <th>pixel4</th>\n",
       "      <th>pixel5</th>\n",
       "      <th>pixel6</th>\n",
       "      <th>pixel7</th>\n",
       "      <th>pixel8</th>\n",
       "      <th>pixel9</th>\n",
       "      <th>pixel10</th>\n",
       "      <th>...</th>\n",
       "      <th>pixel775</th>\n",
       "      <th>pixel776</th>\n",
       "      <th>pixel777</th>\n",
       "      <th>pixel778</th>\n",
       "      <th>pixel779</th>\n",
       "      <th>pixel780</th>\n",
       "      <th>pixel781</th>\n",
       "      <th>pixel782</th>\n",
       "      <th>pixel783</th>\n",
       "      <th>pixel784</th>\n",
       "    </tr>\n",
       "  </thead>\n",
       "  <tbody>\n",
       "    <tr>\n",
       "      <th>0</th>\n",
       "      <td>0.0</td>\n",
       "      <td>0.0</td>\n",
       "      <td>0.0</td>\n",
       "      <td>0.000000</td>\n",
       "      <td>0.000000</td>\n",
       "      <td>0.0</td>\n",
       "      <td>0.0</td>\n",
       "      <td>0.000000</td>\n",
       "      <td>0.0</td>\n",
       "      <td>0.0</td>\n",
       "      <td>...</td>\n",
       "      <td>0.000000</td>\n",
       "      <td>0.0</td>\n",
       "      <td>0.0</td>\n",
       "      <td>0.000000</td>\n",
       "      <td>0.000000</td>\n",
       "      <td>0.000000</td>\n",
       "      <td>0.0</td>\n",
       "      <td>0.0</td>\n",
       "      <td>0.0</td>\n",
       "      <td>0.0</td>\n",
       "    </tr>\n",
       "    <tr>\n",
       "      <th>1</th>\n",
       "      <td>0.0</td>\n",
       "      <td>0.0</td>\n",
       "      <td>0.0</td>\n",
       "      <td>0.000000</td>\n",
       "      <td>0.000000</td>\n",
       "      <td>0.0</td>\n",
       "      <td>0.0</td>\n",
       "      <td>0.000000</td>\n",
       "      <td>0.0</td>\n",
       "      <td>0.0</td>\n",
       "      <td>...</td>\n",
       "      <td>0.000000</td>\n",
       "      <td>0.0</td>\n",
       "      <td>0.0</td>\n",
       "      <td>0.000000</td>\n",
       "      <td>0.000000</td>\n",
       "      <td>0.000000</td>\n",
       "      <td>0.0</td>\n",
       "      <td>0.0</td>\n",
       "      <td>0.0</td>\n",
       "      <td>0.0</td>\n",
       "    </tr>\n",
       "    <tr>\n",
       "      <th>2</th>\n",
       "      <td>0.0</td>\n",
       "      <td>0.0</td>\n",
       "      <td>0.0</td>\n",
       "      <td>0.000000</td>\n",
       "      <td>0.000000</td>\n",
       "      <td>0.0</td>\n",
       "      <td>0.0</td>\n",
       "      <td>0.019608</td>\n",
       "      <td>0.0</td>\n",
       "      <td>0.0</td>\n",
       "      <td>...</td>\n",
       "      <td>0.000000</td>\n",
       "      <td>0.0</td>\n",
       "      <td>0.0</td>\n",
       "      <td>0.117647</td>\n",
       "      <td>0.168627</td>\n",
       "      <td>0.000000</td>\n",
       "      <td>0.0</td>\n",
       "      <td>0.0</td>\n",
       "      <td>0.0</td>\n",
       "      <td>0.0</td>\n",
       "    </tr>\n",
       "    <tr>\n",
       "      <th>3</th>\n",
       "      <td>0.0</td>\n",
       "      <td>0.0</td>\n",
       "      <td>0.0</td>\n",
       "      <td>0.003922</td>\n",
       "      <td>0.007843</td>\n",
       "      <td>0.0</td>\n",
       "      <td>0.0</td>\n",
       "      <td>0.000000</td>\n",
       "      <td>0.0</td>\n",
       "      <td>0.0</td>\n",
       "      <td>...</td>\n",
       "      <td>0.011765</td>\n",
       "      <td>0.0</td>\n",
       "      <td>0.0</td>\n",
       "      <td>0.000000</td>\n",
       "      <td>0.000000</td>\n",
       "      <td>0.003922</td>\n",
       "      <td>0.0</td>\n",
       "      <td>0.0</td>\n",
       "      <td>0.0</td>\n",
       "      <td>0.0</td>\n",
       "    </tr>\n",
       "    <tr>\n",
       "      <th>4</th>\n",
       "      <td>0.0</td>\n",
       "      <td>0.0</td>\n",
       "      <td>0.0</td>\n",
       "      <td>0.000000</td>\n",
       "      <td>0.000000</td>\n",
       "      <td>0.0</td>\n",
       "      <td>0.0</td>\n",
       "      <td>0.000000</td>\n",
       "      <td>0.0</td>\n",
       "      <td>0.0</td>\n",
       "      <td>...</td>\n",
       "      <td>0.000000</td>\n",
       "      <td>0.0</td>\n",
       "      <td>0.0</td>\n",
       "      <td>0.000000</td>\n",
       "      <td>0.000000</td>\n",
       "      <td>0.000000</td>\n",
       "      <td>0.0</td>\n",
       "      <td>0.0</td>\n",
       "      <td>0.0</td>\n",
       "      <td>0.0</td>\n",
       "    </tr>\n",
       "  </tbody>\n",
       "</table>\n",
       "<p>5 rows × 784 columns</p>\n",
       "</div>"
      ],
      "text/plain": [
       "   pixel1  pixel2  pixel3    pixel4    pixel5  pixel6  pixel7    pixel8  \\\n",
       "0     0.0     0.0     0.0  0.000000  0.000000     0.0     0.0  0.000000   \n",
       "1     0.0     0.0     0.0  0.000000  0.000000     0.0     0.0  0.000000   \n",
       "2     0.0     0.0     0.0  0.000000  0.000000     0.0     0.0  0.019608   \n",
       "3     0.0     0.0     0.0  0.003922  0.007843     0.0     0.0  0.000000   \n",
       "4     0.0     0.0     0.0  0.000000  0.000000     0.0     0.0  0.000000   \n",
       "\n",
       "   pixel9  pixel10  ...  pixel775  pixel776  pixel777  pixel778  pixel779  \\\n",
       "0     0.0      0.0  ...  0.000000       0.0       0.0  0.000000  0.000000   \n",
       "1     0.0      0.0  ...  0.000000       0.0       0.0  0.000000  0.000000   \n",
       "2     0.0      0.0  ...  0.000000       0.0       0.0  0.117647  0.168627   \n",
       "3     0.0      0.0  ...  0.011765       0.0       0.0  0.000000  0.000000   \n",
       "4     0.0      0.0  ...  0.000000       0.0       0.0  0.000000  0.000000   \n",
       "\n",
       "   pixel780  pixel781  pixel782  pixel783  pixel784  \n",
       "0  0.000000       0.0       0.0       0.0       0.0  \n",
       "1  0.000000       0.0       0.0       0.0       0.0  \n",
       "2  0.000000       0.0       0.0       0.0       0.0  \n",
       "3  0.003922       0.0       0.0       0.0       0.0  \n",
       "4  0.000000       0.0       0.0       0.0       0.0  \n",
       "\n",
       "[5 rows x 784 columns]"
      ]
     },
     "execution_count": 17,
     "metadata": {},
     "output_type": "execute_result"
    }
   ],
   "source": [
    "# splitting data\n",
    "print(\"Loading data.....\")\n",
    "dataset_train = load_file(\"fashion-mnist_train.csv\")\n",
    "dataset_test = load_file(\"fashion-mnist_test.csv\")\n",
    "\n",
    "# splitting training data\n",
    "trainingY = dataset_train['label']\n",
    "trainingX = dataset_train.drop(columns='label')\n",
    "\n",
    "# splitting training data \n",
    "testY = dataset_test['label']\n",
    "testX = dataset_test.drop(columns='label')\n",
    "trainingX=trainingX/255\n",
    "testX=testX/255\n",
    "trainingX.head()"
   ]
  },
  {
   "cell_type": "code",
   "execution_count": 20,
   "metadata": {},
   "outputs": [],
   "source": [
    "from sklearn.linear_model import LogisticRegression\n",
    "from sklearn.neighbors import KNeighborsClassifier\n",
    "from sklearn import datasets, svm, metrics\n",
    "\n",
    "# Create a classifier: a support vector classifier\n",
    "clf = svm.SVC(gamma=0.001)\n",
    "# Learn the digits on the train subset\n",
    "clf.fit(trainingX, trainingY)\n",
    "\n",
    "# Predict the value of the digit on the test subset\n",
    "predicted = clf.predict(testX)"
   ]
  },
  {
   "cell_type": "code",
   "execution_count": 19,
   "metadata": {},
   "outputs": [
    {
     "name": "stdout",
     "output_type": "stream",
     "text": [
      "Accuracy: 0.856\n",
      "Precision: [0.848 0.959 0.762 0.908 0.836 0.914 0.553 0.887 0.96  0.933]\n",
      "Recall: [0.76190476 0.98358974 0.78963731 0.85098407 0.78130841 0.92697769\n",
      " 0.69647355 0.89056225 0.9495549  0.91202346]\n",
      "Confusion Matrix: [[848   5  14  28   1   1 213   0   3   0]\n",
      " [  2 959   1  10   0   0   3   0   0   0]\n",
      " [ 12   9 762  17  59   0  98   0   8   0]\n",
      " [ 55  23  11 908  31   1  34   0   4   0]\n",
      " [  0   0 135  17 836   0  81   0   1   0]\n",
      " [  3   1   1   0   0 914   0  42   5  20]\n",
      " [ 68   3  67  17  71   1 553   0  14   0]\n",
      " [  0   0   0   0   0  60   0 887   2  47]\n",
      " [ 12   0   9   3   2   6  18   1 960   0]\n",
      " [  0   0   0   0   0  17   0  70   3 933]]\n"
     ]
    }
   ],
   "source": [
    "print('Accuracy:', metrics.accuracy_score(predicted, testY))\n",
    "print('Precision:',metrics.precision_score(predicted, testY, average=None))\n",
    "print('Recall:',metrics.recall_score(predicted, testY,average=None))\n",
    "print('Confusion Matrix:',metrics.confusion_matrix(predicted, testY))"
   ]
  },
  {
   "cell_type": "code",
   "execution_count": 18,
   "metadata": {},
   "outputs": [
    {
     "name": "stdout",
     "output_type": "stream",
     "text": [
      "60000\n",
      "Metrics for Decision Tree Classifier\n",
      "Accuracy: 0.7946\n",
      "Precision: [0.723 0.965 0.688 0.824 0.66  0.874 0.556 0.864 0.901 0.891]\n",
      "Recall: [0.72011952 0.95829196 0.68253968 0.82730924 0.67692308 0.8954918\n",
      " 0.54033042 0.85375494 0.91938776 0.87956565]\n",
      "Confusion Matrix: [[723   3  26  47   9   1 183   0  12   0]\n",
      " [  4 965   3  22   4   1   6   0   2   0]\n",
      " [ 19   4 688  16 157   1 102   0  21   0]\n",
      " [ 45  18  18 824  52   2  30   0   5   2]\n",
      " [  8   4 143  41 660   2 105   0  11   1]\n",
      " [  3   0   3   1   1 874   1  58  11  24]\n",
      " [182   2 112  42 105   3 556   0  25   2]\n",
      " [  3   0   0   0   0  59   0 864   9  77]\n",
      " [ 12   4   6   7  11  18  15   3 901   3]\n",
      " [  1   0   1   0   1  39   2  75   3 891]]\n"
     ]
    }
   ],
   "source": [
    "print(len(trainingX))\n",
    "classifier = tree.DecisionTreeClassifier()\n",
    "classifier.fit(trainingX,trainingY)\n",
    "predicted2=classifier.predict(testX)\n",
    "print(\"Metrics for Decision Tree Classifier\")\n",
    "print('Accuracy:', metrics.accuracy_score(predicted2, testY))\n",
    "print('Precision:',metrics.precision_score(predicted2, testY, average=None))\n",
    "print('Recall:',metrics.recall_score(predicted2, testY,average=None))\n",
    "print('Confusion Matrix:',metrics.confusion_matrix(predicted2, testY))"
   ]
  },
  {
   "cell_type": "code",
   "execution_count": 22,
   "metadata": {},
   "outputs": [
    {
     "name": "stdout",
     "output_type": "stream",
     "text": [
      "Metrics for SGD Classifier\n",
      "Accuracy: 0.8484\n",
      "Precision: [0.774 0.974 0.778 0.91  0.761 0.919 0.596 0.889 0.951 0.932]\n",
      "Recall: [0.82869379 0.974      0.7687747  0.8045977  0.79769392 0.90810277\n",
      " 0.65207877 0.90992835 0.90744275 0.91552063]\n",
      "Confusion Matrix: [[774   1  13  15   0   2 127   0   2   0]\n",
      " [  2 974   1  13   3   2   4   0   1   0]\n",
      " [ 23   0 778  15  79   1 111   0   5   0]\n",
      " [ 73  16  14 910  48   1  58   0  11   0]\n",
      " [  1   0 104  16 761   0  68   0   3   1]\n",
      " [  3   2   0   0   1 919   2  45   9  31]\n",
      " [ 97   6  73  27 102   0 596   0  12   1]\n",
      " [  0   1   0   0   0  49   1 889   2  35]\n",
      " [ 27   0  17   4   6   9  33   1 951   0]\n",
      " [  0   0   0   0   0  17   0  65   4 932]]\n"
     ]
    }
   ],
   "source": [
    "classifier = sklearn.linear_model.SGDClassifier()\n",
    "classifier.fit(trainingX,trainingY)\n",
    "predicted3=classifier.predict(testX)\n",
    "print(\"Metrics for SGD Classifier\")\n",
    "print('Accuracy:', metrics.accuracy_score(predicted3, testY))\n",
    "print('Precision:',metrics.precision_score(predicted3, testY, average=None))\n",
    "print('Recall:',metrics.recall_score(predicted3, testY,average=None))\n",
    "print('Confusion Matrix:',metrics.confusion_matrix(predicted3, testY))"
   ]
  },
  {
   "cell_type": "code",
   "execution_count": 23,
   "metadata": {},
   "outputs": [
    {
     "name": "stdout",
     "output_type": "stream",
     "text": [
      "Metrics for Logistic Regression\n",
      "Accuracy: 0.8565\n",
      "Precision: [0.813 0.971 0.759 0.887 0.809 0.922 0.6   0.911 0.951 0.942]\n",
      "Recall: [0.8049505  0.971      0.76512097 0.85866409 0.77639155 0.92663317\n",
      " 0.66006601 0.91191191 0.93786982 0.93638171]\n",
      "Confusion Matrix: [[813   0  16  27   1   2 146   0   5   0]\n",
      " [  4 971   2  19   0   1   3   0   0   0]\n",
      " [ 16   3 759  18  84   0 105   0   7   0]\n",
      " [ 46  17  12 887  29   1  34   0   7   0]\n",
      " [  0   1 111  22 809   0  95   0   4   0]\n",
      " [  2   2   0   0   0 922   1  44   6  18]\n",
      " [ 98   6  90  26  74   1 600   0  14   0]\n",
      " [  0   0   0   0   0  46   0 911   4  38]\n",
      " [ 20   0  10   1   3  10  16   1 951   2]\n",
      " [  1   0   0   0   0  17   0  44   2 942]]\n"
     ]
    },
    {
     "name": "stderr",
     "output_type": "stream",
     "text": [
      "C:\\Anaconda3\\lib\\site-packages\\sklearn\\linear_model\\_logistic.py:765: ConvergenceWarning: lbfgs failed to converge (status=1):\n",
      "STOP: TOTAL NO. of ITERATIONS REACHED LIMIT.\n",
      "\n",
      "Increase the number of iterations (max_iter) or scale the data as shown in:\n",
      "    https://scikit-learn.org/stable/modules/preprocessing.html\n",
      "Please also refer to the documentation for alternative solver options:\n",
      "    https://scikit-learn.org/stable/modules/linear_model.html#logistic-regression\n",
      "  extra_warning_msg=_LOGISTIC_SOLVER_CONVERGENCE_MSG)\n"
     ]
    }
   ],
   "source": [
    "classifier = LogisticRegression()\n",
    "classifier.fit(trainingX,trainingY)\n",
    "predicted4=classifier.predict(testX)\n",
    "print(\"Metrics for Logistic Regression\")\n",
    "print('Accuracy:', metrics.accuracy_score(predicted4, testY))\n",
    "print('Precision:',metrics.precision_score(predicted4, testY, average=None))\n",
    "print('Recall:',metrics.recall_score(predicted4, testY,average=None))\n",
    "print('Confusion Matrix:',metrics.confusion_matrix(predicted4, testY))"
   ]
  },
  {
   "cell_type": "code",
   "execution_count": 24,
   "metadata": {},
   "outputs": [
    {
     "name": "stdout",
     "output_type": "stream",
     "text": [
      "Metrics for KNeighborsClassifier\n",
      "Accuracy: 0.8589\n",
      "Precision: [0.874 0.965 0.808 0.882 0.799 0.816 0.583 0.945 0.953 0.964]\n",
      "Recall: [0.76599474 0.98569969 0.75302889 0.91304348 0.78719212 0.99512195\n",
      " 0.68187135 0.87177122 0.9774359  0.88278388]\n",
      "Confusion Matrix: [[874   4  18  36   4   1 202   0   2   0]\n",
      " [  1 965   0  11   0   0   1   0   1   0]\n",
      " [ 16   7 808  14  99   1 114   0  14   0]\n",
      " [ 11  14  14 882  26   1  16   0   2   0]\n",
      " [  5   1  98  32 799   0  74   0   6   0]\n",
      " [  0   0   0   0   0 816   0   1   1   2]\n",
      " [ 86   9  61  25  70   8 583   0  13   0]\n",
      " [  2   0   0   0   0  98   0 945   5  34]\n",
      " [  5   0   1   0   2   4  10   0 953   0]\n",
      " [  0   0   0   0   0  71   0  54   3 964]]\n"
     ]
    }
   ],
   "source": [
    "classifier = KNeighborsClassifier()\n",
    "classifier.fit(trainingX,trainingY)\n",
    "predicted5=classifier.predict(testX)\n",
    "print(\"Metrics for KNeighborsClassifier\")\n",
    "print('Accuracy:', metrics.accuracy_score(predicted5, testY))\n",
    "print('Precision:',metrics.precision_score(predicted5, testY, average=None))\n",
    "print('Recall:',metrics.recall_score(predicted5, testY,average=None))\n",
    "print('Confusion Matrix:',metrics.confusion_matrix(predicted5, testY))"
   ]
  }
 ],
 "metadata": {
  "interpreter": {
   "hash": "97ae724bfa85b9b34df7982b8bb8c7216f435b92902d749e4263f71162bea840"
  },
  "kernelspec": {
   "display_name": "Python 3.7.3 64-bit ('base': conda)",
   "name": "python3"
  },
  "language_info": {
   "codemirror_mode": {
    "name": "ipython",
    "version": 3
   },
   "file_extension": ".py",
   "mimetype": "text/x-python",
   "name": "python",
   "nbconvert_exporter": "python",
   "pygments_lexer": "ipython3",
   "version": "3.7.3"
  }
 },
 "nbformat": 4,
 "nbformat_minor": 2
}
