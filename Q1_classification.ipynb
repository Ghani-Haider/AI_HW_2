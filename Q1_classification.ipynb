{
 "cells": [
  {
   "cell_type": "code",
   "execution_count": 5,
   "source": [
    "import csv\r\n",
    "import pandas as pd\r\n",
    "from sklearn.feature_extraction.text import CountVectorizer\r\n",
    "from sklearn.feature_extraction.text import TfidfTransformer\r\n",
    "from sklearn.model_selection import train_test_split\r\n"
   ],
   "outputs": [],
   "metadata": {}
  },
  {
   "cell_type": "code",
   "execution_count": 6,
   "source": [
    "def load_file(fileName):\r\n",
    "    dataset = pd.read_table(fileName, header=0, sep=\",\", encoding=\"unicode_escape\")\r\n",
    "    \r\n",
    "    return dataset"
   ],
   "outputs": [],
   "metadata": {}
  },
  {
   "cell_type": "code",
   "execution_count": 7,
   "source": [
    "# preprocess creates the term frequency matrix for the review data set\r\n",
    "def preprocess(data):\r\n",
    "    count_vectorizer = CountVectorizer()\r\n",
    "    data = count_vectorizer.fit_transform(data)\r\n",
    "    #tfidf_data = TfidfTransformer(use_idf=False).fit_transform(data)\r\n",
    "\r\n",
    "    return data"
   ],
   "outputs": [],
   "metadata": {}
  },
  {
   "cell_type": "code",
   "execution_count": 8,
   "source": [
    "def learn_model(data,target):\r\n",
    "  \r\n",
    "    classifier = None\r\n",
    "    #Your custom implementation of NaiveBayes classifier will go here.\r\n",
    "    \r\n",
    "    \r\n",
    "    return classifier"
   ],
   "outputs": [],
   "metadata": {}
  },
  {
   "cell_type": "code",
   "execution_count": 9,
   "source": [
    "def classify(classifier, testdata):\r\n",
    "    \r\n",
    "    predicted_val=[]\r\n",
    "    #Your code to classify test data using the learned model will go here\r\n",
    "    \r\n",
    "    \r\n",
    "    return predicted_val"
   ],
   "outputs": [],
   "metadata": {}
  },
  {
   "cell_type": "code",
   "execution_count": 10,
   "source": [
    "def evaluate(actual_class, predicted_class):\r\n",
    "        \r\n",
    "    accuracy = -1    \r\n",
    "    #Your code to evaluate the model will go here. The code will print overall model's accuracy and precision \r\n",
    "    #and recall for each class label.\r\n",
    "    \r\n",
    "    \r\n",
    "    print(\"The accuracy score is :\",accuracy)"
   ],
   "outputs": [],
   "metadata": {}
  },
  {
   "cell_type": "code",
   "execution_count": 12,
   "source": [
    "features = [\"SUMMARY\", \"categories\", \"sub_categories\"]\r\n",
    "\r\n",
    "print(\"Loading data.....\")\r\n",
    "dataset = load_file(\"TextClassification_Data.csv\")\r\n",
    "data,target = dataset[features[0]].fillna(\" \"), dataset[features[1]]\r\n",
    "\r\n",
    "print(\"preprocessing data.....\")\r\n",
    "word_vectors = preprocess(data)\r\n",
    "    \r\n",
    "trainingX,testX,trainingY,testY = train_test_split(word_vectors,target,test_size=0.4,random_state=43)\r\n",
    "\r\n",
    "print(\"Learning model.....\")\r\n",
    "model = learn_model(trainingX,trainingY)\r\n",
    "\r\n",
    "print(\"Classifying test data......\")      \r\n",
    "predictedY = classify(model, testX)\r\n",
    "\r\n",
    "print(\"Evaluating results.....\")\r\n",
    "evaluate(testY,predictedY)"
   ],
   "outputs": [
    {
     "output_type": "stream",
     "name": "stdout",
     "text": [
      "Loading data.....\n",
      "preprocessing data.....\n",
      "Learning model.....\n",
      "Classifying test data......\n",
      "Evaluating results.....\n",
      "The accuracy score is : -1\n"
     ]
    }
   ],
   "metadata": {}
  },
  {
   "cell_type": "code",
   "execution_count": null,
   "source": [],
   "outputs": [],
   "metadata": {}
  }
 ],
 "metadata": {
  "kernelspec": {
   "display_name": "Python 3",
   "language": "python",
   "name": "python3"
  },
  "language_info": {
   "codemirror_mode": {
    "name": "ipython",
    "version": 3
   },
   "file_extension": ".py",
   "mimetype": "text/x-python",
   "name": "python",
   "nbconvert_exporter": "python",
   "pygments_lexer": "ipython3",
   "version": "3.7.1"
  }
 },
 "nbformat": 4,
 "nbformat_minor": 2
}